{
 "cells": [
  {
   "cell_type": "markdown",
   "id": "a1af5691-e236-4b4d-904f-ce515dea9a53",
   "metadata": {},
   "source": [
    "1)"
   ]
  },
  {
   "cell_type": "code",
   "execution_count": 1,
   "id": "ecf669c1-48d6-4a8a-89d8-f887cd559da8",
   "metadata": {},
   "outputs": [
    {
     "name": "stdin",
     "output_type": "stream",
     "text": [
      "Escreva uma frase Eu sou um futuro piloto\n"
     ]
    },
    {
     "name": "stdout",
     "output_type": "stream",
     "text": [
      "A Frase escrita é: ['eu_sou_um_futuro_piloto']\n"
     ]
    }
   ],
   "source": [
    "frase = input('Escreva uma frase')\n",
    "frase_norm = frase.replace(' ', '_').lower().split()\n",
    "print(f'A Frase escrita é: {frase_norm}')"
   ]
  },
  {
   "cell_type": "markdown",
   "id": "c64ab973-61f1-49e6-afc8-6f30974a424d",
   "metadata": {},
   "source": [
    "2)"
   ]
  },
  {
   "cell_type": "code",
   "execution_count": 3,
   "id": "9f3f3c10-e0ce-4214-9b2d-59f3934aa979",
   "metadata": {},
   "outputs": [
    {
     "name": "stdout",
     "output_type": "stream",
     "text": [
      "Vendas acima de 100 unidades: [120, 300, 200]\n",
      "A média das vendas é de: 206.67\n"
     ]
    }
   ],
   "source": [
    "vendas = [120, 85, 300, 55, 200, 95]\n",
    "\n",
    "filtro = []\n",
    "\n",
    "for venda in range(len(vendas)):\n",
    "    if vendas[venda] > 100:\n",
    "        filtro.append(vendas[venda])\n",
    "\n",
    "print(f'Vendas acima de 100 unidades: {filtro}')\n",
    "print(f'A média das vendas é de: {sum(filtro)/len(filtro):.2f}')\n",
    "    "
   ]
  },
  {
   "cell_type": "markdown",
   "id": "2a06bf0a-0c30-4bff-ad13-32a461aa864c",
   "metadata": {},
   "source": [
    "3)"
   ]
  },
  {
   "cell_type": "code",
   "execution_count": 11,
   "id": "17a9b7ab-532b-42b0-bb1f-b828677e999b",
   "metadata": {},
   "outputs": [
    {
     "name": "stdin",
     "output_type": "stream",
     "text": [
      "Digite Cordenada x1 1\n",
      "Digite Cordenada y1 1\n",
      "Digite Cordenada x2 1\n",
      "Digite Cordenada y2 1\n",
      "Digite Cordenada x3 1\n",
      "Digite Cordenada y3 1\n"
     ]
    },
    {
     "name": "stdout",
     "output_type": "stream",
     "text": [
      "Distancia Media 5.0\n"
     ]
    }
   ],
   "source": [
    "import math\n",
    "numeros = []\n",
    "for i in range(1, 4):\n",
    "    part = int(input(f'Digite Cordenada x{i}'))\n",
    "    dest = int(input(f'Digite Cordenada y{i}'))\n",
    "    euc = math.sqrt(x**2 + y**2)\n",
    "    numeros.append(euc)\n",
    "\n",
    "print(f'Distancia Media {sum(numeros)/len(numeros):.1f}')\n",
    "    "
   ]
  },
  {
   "cell_type": "markdown",
   "id": "887cd89e-feba-4644-9a71-3bcb5b560ef7",
   "metadata": {},
   "source": [
    "4)"
   ]
  },
  {
   "cell_type": "code",
   "execution_count": 5,
   "id": "33fbc315-0b0c-4fef-9221-a3df4d766259",
   "metadata": {},
   "outputs": [
    {
     "name": "stdin",
     "output_type": "stream",
     "text": [
      "Digite a frase como eu como um aviao? ele é grande.\n"
     ]
    },
    {
     "name": "stdout",
     "output_type": "stream",
     "text": [
      "como: 2\n",
      "eu: 1\n",
      "um: 1\n",
      "aviao?: 1\n",
      "ele: 1\n",
      "é: 1\n",
      "grande.: 1\n"
     ]
    }
   ],
   "source": [
    "frase = input('Digite a frase desejada')\n",
    "\n",
    "\n",
    "palavras = frase.lower().split()\n",
    "contagem = {}\n",
    "\n",
    "for palavra in palavras:\n",
    "    if palavra in contagem:\n",
    "        contagem[palavra] += 1\n",
    "    else:\n",
    "        contagem[palavra] = 1\n",
    "        \n",
    "for palavra, cont in contagem.items():\n",
    "    print(f'{palavra}: {cont}')"
   ]
  },
  {
   "cell_type": "code",
   "execution_count": null,
   "id": "c6179672-b28e-4108-b661-eab741b11046",
   "metadata": {},
   "outputs": [],
   "source": []
  }
 ],
 "metadata": {
  "kernelspec": {
   "display_name": "Python 3 (ipykernel)",
   "language": "python",
   "name": "python3"
  },
  "language_info": {
   "codemirror_mode": {
    "name": "ipython",
    "version": 3
   },
   "file_extension": ".py",
   "mimetype": "text/x-python",
   "name": "python",
   "nbconvert_exporter": "python",
   "pygments_lexer": "ipython3",
   "version": "3.12.7"
  }
 },
 "nbformat": 4,
 "nbformat_minor": 5
}
