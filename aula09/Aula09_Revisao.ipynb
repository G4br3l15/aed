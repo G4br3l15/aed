{
 "cells": [
  {
   "cell_type": "markdown",
   "metadata": {},
   "source": [
    "![Algoritmos e Estrutura de Dados I](AED1_banner.jpg)"
   ]
  },
  {
   "cell_type": "markdown",
   "metadata": {},
   "source": [
    "## <font color='blue'>Algoritmos e Estrutura de Dados I</font>\n",
    "## <font color='blue'>Aula 9 -  Revisão</font>"
   ]
  },
  {
   "cell_type": "code",
   "execution_count": null,
   "metadata": {},
   "outputs": [],
   "source": [
    "# Versão da Linguagem Python\n",
    "from platform import python_version\n",
    "print('Versão da Linguagem Python Usada Neste Jupyter Notebook:', python_version())"
   ]
  },
  {
   "cell_type": "markdown",
   "metadata": {},
   "source": [
    "## Estrutura sequencial"
   ]
  },
  {
   "cell_type": "markdown",
   "metadata": {},
   "source": [
    "Escreva um programa em Python que solicite ao usuário o valor de dois números, calcule e exiba a soma deles."
   ]
  },
  {
   "cell_type": "code",
   "execution_count": 18,
   "metadata": {},
   "outputs": [
    {
     "name": "stdin",
     "output_type": "stream",
     "text": [
      "Escolha um numero 1\n",
      "Escolha um numero 2\n"
     ]
    },
    {
     "name": "stdout",
     "output_type": "stream",
     "text": [
      "O Resultado é: 3\n"
     ]
    }
   ],
   "source": [
    "Numero_1 = int(input(\"Escolha um numero\"))\n",
    "Numero_2 = int(input(\"Escolha um numero\"))\n",
    "\n",
    "Resultado = Numero_1+Numero_2\n",
    "\n",
    "print (\"O Resultado é:\", Resultado)\n"
   ]
  },
  {
   "attachments": {},
   "cell_type": "markdown",
   "metadata": {},
   "source": [
    "Escreva um programa em Python que solicite ao usuário a temperatura em graus Celsius e converta para Fahrenheit. A fórmula para conversão é F = C * 9/5 + 32.\n"
   ]
  },
  {
   "cell_type": "code",
   "execution_count": 22,
   "metadata": {},
   "outputs": [
    {
     "name": "stdin",
     "output_type": "stream",
     "text": [
      "Insira a temperatura em C° 5.6\n"
     ]
    },
    {
     "name": "stdout",
     "output_type": "stream",
     "text": [
      "A temperatura em F° é:  42.08\n"
     ]
    }
   ],
   "source": [
    "NC=float(input(\"Insira a temperatura em C°\"))\n",
    "TF= ((NC*9)/5)+32\n",
    "print( \"A temperatura em F° é: \",TF)\n",
    "\n"
   ]
  },
  {
   "cell_type": "markdown",
   "metadata": {},
   "source": [
    "## Estrutura Condicional"
   ]
  },
  {
   "cell_type": "markdown",
   "metadata": {},
   "source": [
    "Escreva um programa em Python que solicite ao usuário um número e verifique se ele é positivo, negativo ou zero. Exiba a mensagem correspondente.\n"
   ]
  },
  {
   "cell_type": "code",
   "execution_count": 30,
   "metadata": {},
   "outputs": [
    {
     "name": "stdin",
     "output_type": "stream",
     "text": [
      "Escolha um numero:  1\n"
     ]
    },
    {
     "name": "stdout",
     "output_type": "stream",
     "text": [
      "O numero  1.0 é positivo\n"
     ]
    }
   ],
   "source": [
    "N =float(input(\"Escolha um numero: \"))\n",
    "if N > 0:\n",
    "    print(\"O numero \", N, \"é positivo\")\n",
    "if N == 0:\n",
    "    print(\"o numero \", N, \"é igual a zero\")\n",
    "if N < 0:\n",
    "    print(\"o numero \", N, \"é negativo\")\n"
   ]
  },
  {
   "cell_type": "markdown",
   "metadata": {},
   "source": [
    "Escreva um programa em Python que solicite ao usuário três números e determine qual é o maior entre eles.\n"
   ]
  },
  {
   "cell_type": "code",
   "execution_count": 31,
   "metadata": {},
   "outputs": [
    {
     "name": "stdin",
     "output_type": "stream",
     "text": [
      "insira um numero 1\n",
      "insira um numero 2\n",
      "insira um numero 4\n"
     ]
    },
    {
     "name": "stdout",
     "output_type": "stream",
     "text": [
      "4.0 é o maior !\n"
     ]
    }
   ],
   "source": [
    "n1 = float(input( \"insira um numero\"))\n",
    "n2 = float(input( \"insira um numero\"))\n",
    "n3 = float(input( \"insira um numero\"))\n",
    "\n",
    "if n1 > n2:\n",
    "    if n1>n3:\n",
    "        print(f\"n{1} é o maior !\")\n",
    "    else:\n",
    "        print(f\"n{3} é o maior !\")\n",
    "else:\n",
    "    if n2 >n3:\n",
    "        print(f\"{n2} é o maior !\")\n",
    "    else:\n",
    "        print(f\"{n3} é o maior !\")\n",
    "    \n"
   ]
  },
  {
   "cell_type": "markdown",
   "metadata": {},
   "source": [
    "## Estrutura de Repetição"
   ]
  },
  {
   "cell_type": "markdown",
   "metadata": {},
   "source": [
    "Escreva um programa em Python que solicite um numero inteiro positivo de 1 a 9 (voce tem que verificar se o usuario nao digitou fora desse intervalo) e em seguida deve exibir a tabuada desse numero.\n"
   ]
  },
  {
   "cell_type": "code",
   "execution_count": 66,
   "metadata": {},
   "outputs": [
    {
     "name": "stdin",
     "output_type": "stream",
     "text": [
      "Insira um numero entre 0 e 9:  g\n"
     ]
    },
    {
     "name": "stdout",
     "output_type": "stream",
     "text": [
      "O que foi digitado não é um numero\n"
     ]
    },
    {
     "ename": "KeyboardInterrupt",
     "evalue": "Interrupted by user",
     "output_type": "error",
     "traceback": [
      "\u001b[1;31m---------------------------------------------------------------------------\u001b[0m",
      "\u001b[1;31mKeyboardInterrupt\u001b[0m                         Traceback (most recent call last)",
      "Cell \u001b[1;32mIn[66], line 2\u001b[0m\n\u001b[0;32m      1\u001b[0m \u001b[38;5;28;01mwhile\u001b[39;00m \u001b[38;5;28;01mTrue\u001b[39;00m:\n\u001b[1;32m----> 2\u001b[0m     digitacao\u001b[38;5;241m=\u001b[39m \u001b[38;5;28minput\u001b[39m(\u001b[38;5;124m\"\u001b[39m\u001b[38;5;124mInsira um numero entre 0 e 9: \u001b[39m\u001b[38;5;124m\"\u001b[39m)\n\u001b[0;32m      3\u001b[0m     \u001b[38;5;28;01mif\u001b[39;00m digitacao\u001b[38;5;241m.\u001b[39misnumeric():\n\u001b[0;32m      4\u001b[0m         numero\u001b[38;5;241m=\u001b[39m\u001b[38;5;28mfloat\u001b[39m(digitacao)\n",
      "File \u001b[1;32mC:\\ProgramData\\anaconda3\\Lib\\site-packages\\ipykernel\\kernelbase.py:1262\u001b[0m, in \u001b[0;36mKernel.raw_input\u001b[1;34m(self, prompt)\u001b[0m\n\u001b[0;32m   1260\u001b[0m     msg \u001b[38;5;241m=\u001b[39m \u001b[38;5;124m\"\u001b[39m\u001b[38;5;124mraw_input was called, but this frontend does not support input requests.\u001b[39m\u001b[38;5;124m\"\u001b[39m\n\u001b[0;32m   1261\u001b[0m     \u001b[38;5;28;01mraise\u001b[39;00m StdinNotImplementedError(msg)\n\u001b[1;32m-> 1262\u001b[0m \u001b[38;5;28;01mreturn\u001b[39;00m \u001b[38;5;28mself\u001b[39m\u001b[38;5;241m.\u001b[39m_input_request(\n\u001b[0;32m   1263\u001b[0m     \u001b[38;5;28mstr\u001b[39m(prompt),\n\u001b[0;32m   1264\u001b[0m     \u001b[38;5;28mself\u001b[39m\u001b[38;5;241m.\u001b[39m_parent_ident[\u001b[38;5;124m\"\u001b[39m\u001b[38;5;124mshell\u001b[39m\u001b[38;5;124m\"\u001b[39m],\n\u001b[0;32m   1265\u001b[0m     \u001b[38;5;28mself\u001b[39m\u001b[38;5;241m.\u001b[39mget_parent(\u001b[38;5;124m\"\u001b[39m\u001b[38;5;124mshell\u001b[39m\u001b[38;5;124m\"\u001b[39m),\n\u001b[0;32m   1266\u001b[0m     password\u001b[38;5;241m=\u001b[39m\u001b[38;5;28;01mFalse\u001b[39;00m,\n\u001b[0;32m   1267\u001b[0m )\n",
      "File \u001b[1;32mC:\\ProgramData\\anaconda3\\Lib\\site-packages\\ipykernel\\kernelbase.py:1305\u001b[0m, in \u001b[0;36mKernel._input_request\u001b[1;34m(self, prompt, ident, parent, password)\u001b[0m\n\u001b[0;32m   1302\u001b[0m \u001b[38;5;28;01mexcept\u001b[39;00m \u001b[38;5;167;01mKeyboardInterrupt\u001b[39;00m:\n\u001b[0;32m   1303\u001b[0m     \u001b[38;5;66;03m# re-raise KeyboardInterrupt, to truncate traceback\u001b[39;00m\n\u001b[0;32m   1304\u001b[0m     msg \u001b[38;5;241m=\u001b[39m \u001b[38;5;124m\"\u001b[39m\u001b[38;5;124mInterrupted by user\u001b[39m\u001b[38;5;124m\"\u001b[39m\n\u001b[1;32m-> 1305\u001b[0m     \u001b[38;5;28;01mraise\u001b[39;00m \u001b[38;5;167;01mKeyboardInterrupt\u001b[39;00m(msg) \u001b[38;5;28;01mfrom\u001b[39;00m \u001b[38;5;28;01mNone\u001b[39;00m\n\u001b[0;32m   1306\u001b[0m \u001b[38;5;28;01mexcept\u001b[39;00m \u001b[38;5;167;01mException\u001b[39;00m:\n\u001b[0;32m   1307\u001b[0m     \u001b[38;5;28mself\u001b[39m\u001b[38;5;241m.\u001b[39mlog\u001b[38;5;241m.\u001b[39mwarning(\u001b[38;5;124m\"\u001b[39m\u001b[38;5;124mInvalid Message:\u001b[39m\u001b[38;5;124m\"\u001b[39m, exc_info\u001b[38;5;241m=\u001b[39m\u001b[38;5;28;01mTrue\u001b[39;00m)\n",
      "\u001b[1;31mKeyboardInterrupt\u001b[0m: Interrupted by user"
     ]
    }
   ],
   "source": [
    "while True:\n",
    "    digitacao= input(\"Insira um numero entre 0 e 9: \")\n",
    "    if digitacao.isnumeric(\n",
    "        \n",
    "    ):\n",
    "        numero=float(digitacao)\n",
    "        if numero >=1 and numero <= 9:\n",
    "            break\n",
    "        else:\n",
    "            print(\"O numero não está entre 1 e 9\")\n",
    "    else:\n",
    "        print(\"O que foi digitado não é um numero\")\n",
    "\n",
    "for i in range (1,11):\n",
    "    print(f\"{i} x {numero} = {i*numero}\")\n",
    "        \n"
   ]
  },
  {
   "cell_type": "markdown",
   "metadata": {},
   "source": [
    "Escreva um programa em Python que solicite ao usuário um número inteiro positivo e calcule o fatorial desse número.\n"
   ]
  },
  {
   "cell_type": "code",
   "execution_count": null,
   "metadata": {},
   "outputs": [],
   "source": [
    "\n"
   ]
  },
  {
   "cell_type": "markdown",
   "metadata": {},
   "source": [
    "## Geral"
   ]
  },
  {
   "cell_type": "markdown",
   "metadata": {},
   "source": [
    "Você é um cientista de dados e precisa analisar as notas de um conjunto de estudantes em uma disciplina. Você deverá escrever um programa em Python que solicite ao usuário o número de estudantes e, em seguida, as notas desses estudantes. O programa deve calcular e exibir:\n",
    "\n",
    "- A média das notas.\n",
    "- A maior e a menor nota.\n",
    "- O número de estudantes aprovados (nota maior ou igual a 6) e reprovados (nota menor que 6).\n",
    "\n",
    "Regras:\n",
    "\n",
    "- Utilize variáveis simples para armazenar as informações.\n",
    "- Utilize estruturas de repetição para coletar as notas dos estudantes.\n",
    "- Utilize estruturas condicionais para determinar o status de aprovação dos estudantes."
   ]
  },
  {
   "cell_type": "code",
   "execution_count": 73,
   "metadata": {},
   "outputs": [
    {
     "name": "stdin",
     "output_type": "stream",
     "text": [
      "insira quantidade dos alunos 5\n",
      "Entre com a nota do aluno 1:  3\n",
      "Entre com a nota do aluno 2:  2\n",
      "Entre com a nota do aluno 3:  4\n",
      "Entre com a nota do aluno 4:  6\n",
      "Entre com a nota do aluno 5:  5\n"
     ]
    },
    {
     "name": "stdout",
     "output_type": "stream",
     "text": [
      "A média das notas é : 4.0\n",
      "A menor  nota é : 2.0\n",
      "A maior nota é : 6.0\n",
      "o numero de reprovados é : 4\n",
      "o numero de aprovados é : 1\n"
     ]
    }
   ],
   "source": [
    "\n",
    "qtd_alunos = int(input(\"insira quantidade dos alunos\"))\n",
    "somas_notas = 0 \n",
    "maior = 0 \n",
    "menor = 100\n",
    "qtd_aprov = 0\n",
    "qtd_repro  = 0\n",
    "\n",
    "for i in range(qtd_alunos):\n",
    "    nota = float(input(f\"Entre com a nota do aluno {i+1}: \"))\n",
    "    if nota >= 6:\n",
    "        qtd_aprov += 1\n",
    "    else:\n",
    "        qtd_repro += 1\n",
    "    if nota > maior:\n",
    "        maior = nota\n",
    "    if nota < menor:\n",
    "        menor = nota\n",
    "    somas_notas += nota\n",
    "\n",
    "media = somas_notas / qtd_alunos\n",
    "print(f\"A média das notas é : {media}\")\n",
    "print(f\"A menor  nota é : {menor}\")\n",
    "print(f\"A maior nota é : {maior}\")\n",
    "print(f\"o numero de reprovados é : {qtd_repro}\")\n",
    "print(f\"o numero de aprovados é : {qtd_aprov}\")\n",
    "    "
   ]
  },
  {
   "cell_type": "markdown",
   "metadata": {},
   "source": [
    "Faça um programa que receba um número inteiro positivo e transforme esse número para binário."
   ]
  },
  {
   "cell_type": "code",
   "execution_count": 77,
   "metadata": {},
   "outputs": [
    {
     "name": "stdin",
     "output_type": "stream",
     "text": [
      "insira um numero inteiro positivo para conversão 131\n"
     ]
    },
    {
     "name": "stdout",
     "output_type": "stream",
     "text": [
      " o número 131 em binário é:  10000011 \n"
     ]
    }
   ],
   "source": [
    "numero = int(input(\"insira um numero inteiro positivo para conversão\"))\n",
    "b = \" \"\n",
    "n = numero\n",
    "if numero == 0:\n",
    "    b = 0\n",
    "else:\n",
    "    while numero>0:\n",
    "        resto = numero % 2\n",
    "        digito = str(resto)\n",
    "        b = digito + b\n",
    "        numero = numero // 2\n",
    "\n",
    "print(f\" o número {n} em binário é: \", b)\n",
    "    \n",
    "        "
   ]
  },
  {
   "cell_type": "markdown",
   "metadata": {},
   "source": [
    "## Fim da Aula 9"
   ]
  }
 ],
 "metadata": {
  "kernelspec": {
   "display_name": "Python 3 (ipykernel)",
   "language": "python",
   "name": "python3"
  },
  "language_info": {
   "codemirror_mode": {
    "name": "ipython",
    "version": 3
   },
   "file_extension": ".py",
   "mimetype": "text/x-python",
   "name": "python",
   "nbconvert_exporter": "python",
   "pygments_lexer": "ipython3",
   "version": "3.12.4"
  }
 },
 "nbformat": 4,
 "nbformat_minor": 4
}
